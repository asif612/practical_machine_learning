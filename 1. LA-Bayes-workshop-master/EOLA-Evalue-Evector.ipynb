{
 "cells": [
  {
   "cell_type": "code",
   "execution_count": 43,
   "metadata": {},
   "outputs": [
    {
     "name": "stdout",
     "output_type": "stream",
     "text": [
      "A\n",
      " [[ 3 -2]\n",
      " [ 1  0]]\n",
      "Eigenvalues [ 2.  1.]\n",
      "First tuple of eig [ 2.  1.]\n",
      "Second tuple of eig\n",
      " [[ 0.89  0.71]\n",
      " [ 0.45  0.71]]\n",
      "Left [[ 1.79]\n",
      " [ 0.89]]\n",
      "Left [[ 0.71]\n",
      " [ 0.71]]\n"
     ]
    }
   ],
   "source": [
    "import numpy as np\n",
    "import numpy.linalg as linalg\n",
    " \n",
    "A = np.mat(\"3 -2;1 0\") \n",
    "print(\"A\\n\", A) \n",
    " \n",
    "print(\"Eigenvalues\", linalg.eigvals(A)) \n",
    " \n",
    "eigenvalues, eigenvectors = linalg.eig(A) \n",
    "print(\"First tuple of eig\", eigenvalues) \n",
    "print(\"Second tuple of eig\\n\", eigenvectors) \n",
    " \n",
    "for i in range(len(eigenvalues)): \n",
    "   print(\"Left\", np.dot(A, eigenvectors[:,i])) \n",
    "  "
   ]
  },
  {
   "cell_type": "code",
   "execution_count": 21,
   "metadata": {},
   "outputs": [
    {
     "name": "stdout",
     "output_type": "stream",
     "text": [
      "[[10 20 10]\n",
      " [ 2  5  2]\n",
      " [ 8 17  7]\n",
      " [ 9 20 10]\n",
      " [12 22 11]]\n"
     ]
    }
   ],
   "source": [
    "X = np.array([[10,20,10],\n",
    "[2,5,2],\n",
    "[8,17,7],\n",
    "[9,20,10],\n",
    "[12,22,11]])\n",
    "print (X)"
   ]
  },
  {
   "cell_type": "code",
   "execution_count": 22,
   "metadata": {},
   "outputs": [
    {
     "name": "stdout",
     "output_type": "stream",
     "text": [
      "[[ 14.2   25.3   13.5 ]\n",
      " [ 25.3   46.7   24.75]\n",
      " [ 13.5   24.75  13.5 ]]\n"
     ]
    }
   ],
   "source": [
    "X = np.mat(X)\n",
    "meanVals = np.mean(X, axis=0)\n",
    "A = X - meanVals # A is the zero-mean (centered) version\n",
    "C = np.cov(A, rowvar=0) # C is the covarianvce matrix of X\n",
    "print (C)"
   ]
  },
  {
   "cell_type": "code",
   "execution_count": 23,
   "metadata": {},
   "outputs": [
    {
     "name": "stdout",
     "output_type": "stream",
     "text": [
      "[[ 14.2   25.3   13.5 ]\n",
      " [ 25.3   46.7   24.75]\n",
      " [ 13.5   24.75  13.5 ]]\n"
     ]
    }
   ],
   "source": [
    "# Note that C = (1/(N-1)) A.T*A\n",
    "print (np.dot(A.T,A)/(np.shape(X)[0]-1))"
   ]
  },
  {
   "cell_type": "code",
   "execution_count": 24,
   "metadata": {},
   "outputs": [
    {
     "name": "stdout",
     "output_type": "stream",
     "text": [
      "Eigenvalues:\n",
      "[ 73.72   0.38   0.3 ]\n",
      "Eigenvectors:\n",
      "[[ 0.43  0.9  -0.04]\n",
      " [ 0.79 -0.41 -0.45]\n",
      " [ 0.42 -0.16  0.89]]\n"
     ]
    }
   ],
   "source": [
    "np.set_printoptions(precision=2,suppress=True)\n",
    "e, ev = linalg.eig(C)\n",
    "print (\"Eigenvalues:\")\n",
    "print (e)\n",
    "print\n",
    "print (\"Eigenvectors:\")\n",
    "print (ev)"
   ]
  },
  {
   "cell_type": "markdown",
   "metadata": {},
   "source": [
    "## Another Example"
   ]
  },
  {
   "cell_type": "code",
   "execution_count": 25,
   "metadata": {
    "collapsed": true
   },
   "outputs": [],
   "source": [
    "A = np.array([[1,2,3,4],[5,6,7,8]])"
   ]
  },
  {
   "cell_type": "code",
   "execution_count": 26,
   "metadata": {},
   "outputs": [
    {
     "data": {
      "text/plain": [
       "2"
      ]
     },
     "execution_count": 26,
     "metadata": {},
     "output_type": "execute_result"
    }
   ],
   "source": [
    "linalg.matrix_rank(A)"
   ]
  },
  {
   "cell_type": "code",
   "execution_count": 27,
   "metadata": {},
   "outputs": [
    {
     "data": {
      "text/plain": [
       "array([[1, 5],\n",
       "       [2, 6],\n",
       "       [3, 7],\n",
       "       [4, 8]])"
      ]
     },
     "execution_count": 27,
     "metadata": {},
     "output_type": "execute_result"
    }
   ],
   "source": [
    "A.T"
   ]
  },
  {
   "cell_type": "code",
   "execution_count": 28,
   "metadata": {},
   "outputs": [
    {
     "data": {
      "text/plain": [
       "array([[ 30,  70],\n",
       "       [ 70, 174]])"
      ]
     },
     "execution_count": 28,
     "metadata": {},
     "output_type": "execute_result"
    }
   ],
   "source": [
    "np.dot(A,A.T)"
   ]
  },
  {
   "cell_type": "code",
   "execution_count": 29,
   "metadata": {},
   "outputs": [
    {
     "data": {
      "text/plain": [
       "array([[-0.55,  0.25],\n",
       "       [-0.23,  0.13],\n",
       "       [ 0.1 ,  0.  ],\n",
       "       [ 0.43, -0.13]])"
      ]
     },
     "execution_count": 29,
     "metadata": {},
     "output_type": "execute_result"
    }
   ],
   "source": [
    "Ap = np.dot(A.T,linalg.inv(np.dot(A,A.T)))\n",
    "Ap"
   ]
  },
  {
   "cell_type": "code",
   "execution_count": 30,
   "metadata": {},
   "outputs": [
    {
     "data": {
      "text/plain": [
       "(array([ 7.24,  2.76]), array([[ 0.85, -0.53],\n",
       "        [ 0.53,  0.85]]))"
      ]
     },
     "execution_count": 30,
     "metadata": {},
     "output_type": "execute_result"
    }
   ],
   "source": [
    "A1 = np.array([[6,2],[2,4]])\n",
    "vals,vecs = linalg.eig(A1)\n",
    "vals,vecs"
   ]
  },
  {
   "cell_type": "code",
   "execution_count": 31,
   "metadata": {},
   "outputs": [
    {
     "data": {
      "text/plain": [
       "0.0"
      ]
     },
     "execution_count": 31,
     "metadata": {},
     "output_type": "execute_result"
    }
   ],
   "source": [
    "#Note the eigenvectors indeed orthogonal\n",
    "np.dot(vecs[:,0],vecs[:,1])"
   ]
  },
  {
   "cell_type": "code",
   "execution_count": 32,
   "metadata": {},
   "outputs": [
    {
     "name": "stdout",
     "output_type": "stream",
     "text": [
      "Eigenvalues:\n",
      "[ 11.   1.   2.]\n",
      "\n",
      "Eigenvectors:\n",
      "[[ 0.    0.    1.  ]\n",
      " [ 0.45  0.89  0.  ]\n",
      " [ 0.89 -0.45  0.  ]]\n"
     ]
    }
   ],
   "source": [
    "A = np.matrix('2 0 0; 0 3 4; 0 4 9')\n",
    "l, U = linalg.eig(A)\n",
    "print('Eigenvalues:')\n",
    "print(l)\n",
    "print('\\nEigenvectors:')\n",
    "print(U)"
   ]
  },
  {
   "cell_type": "code",
   "execution_count": 33,
   "metadata": {},
   "outputs": [
    {
     "name": "stdout",
     "output_type": "stream",
     "text": [
      "1.66533453694e-16\n"
     ]
    }
   ],
   "source": [
    "#Verify that  Av−lv=0  for each pair of eigenvalue-eigenvector\n",
    "eps = 0\n",
    "for i in range(A.shape[0]):\n",
    "    eps += np.sum(A*U[:,i] - l[i]*U[:,i])\n",
    "print(eps)"
   ]
  },
  {
   "cell_type": "code",
   "execution_count": 34,
   "metadata": {},
   "outputs": [
    {
     "name": "stdout",
     "output_type": "stream",
     "text": [
      "[[ 2.  0.  0.]\n",
      " [ 0.  3.  4.]\n",
      " [ 0.  4.  9.]]\n"
     ]
    }
   ],
   "source": [
    "#Verify that  A=UDU^T\n",
    "print( U * np.diag(l) * U.T )"
   ]
  },
  {
   "cell_type": "markdown",
   "metadata": {},
   "source": [
    "## Visually Explained"
   ]
  },
  {
   "cell_type": "code",
   "execution_count": 35,
   "metadata": {
    "collapsed": true
   },
   "outputs": [],
   "source": [
    "#http://alyssaq.github.io/2015/understanding-eigenvectors-and-eigenvalues-visually/\n",
    "import numpy as np\n",
    "import matplotlib.pyplot as plt\n",
    "\n",
    "def plot_points(matrix, ls='--', lw=1.2, colors=None):\n",
    "  \"\"\"\n",
    "    Plots a 2xn matrix where 1st row are the x-coordinates \n",
    "    and 2nd row are the y-coordinates.\n",
    "    \n",
    "    Parameters:\n",
    "    matrix - 2xn matrix\n",
    "    ls - matplotlib linestyle\n",
    "    lw - matplotlib linewidth\n",
    "    colors - 1D array of colours (http://matplotlib.org/examples/color/named_colors.html)\n",
    "  \"\"\"\n",
    "\n",
    "  x_points, y_points = matrix\n",
    "  size = len(x_points)\n",
    "  colors = ['red', 'blue', 'orange', 'green'] if not None else colors\n",
    "  for i in range(size):\n",
    "    plt.plot(x_points[i], y_points[i], color=colors[i], marker='o')\n",
    "    plt.plot([x_points[i], x_points[(i+1) % size]], \n",
    "             [y_points[i], y_points[(i+1) % size]], \n",
    "             color=colors[i], linestyle=ls, linewidth=lw)\n",
    "    \n",
    "def plot_point_label(prefix, point, location):\n",
    "  \"\"\"\n",
    "    Plots a (x, y) point as a label\n",
    "    \n",
    "    Parameters:\n",
    "    prefix - The name given to the point. E.g. 'p1'\n",
    "    point - 1D array of [x, y]\n",
    "    location - tuple coordinates of the label\n",
    "  \"\"\"\n",
    "  \n",
    "  plt.annotate('{0}={1}'.format(prefix, tuple(map(lambda x: round(x, 2), point))), \n",
    "  xy=point, xytext=location, textcoords='data', color='white', weight='semibold',\n",
    "  bbox=dict(fc='navy', alpha=0.6, ec='none'), arrowprops=dict(arrowstyle='->'))"
   ]
  },
  {
   "cell_type": "code",
   "execution_count": 36,
   "metadata": {},
   "outputs": [
    {
     "name": "stderr",
     "output_type": "stream",
     "text": [
      "C:\\ProgramData\\Anaconda3\\lib\\site-packages\\matplotlib\\cbook\\deprecation.py:106: MatplotlibDeprecationWarning: Adding an axes using the same arguments as a previous axes currently reuses the earlier instance.  In a future version, a new instance will always be created and returned.  Meanwhile, this warning can be suppressed, and the future behavior ensured, by passing a unique label to each axes instance.\n",
      "  warnings.warn(message, mplDeprecation, stacklevel=1)\n"
     ]
    },
    {
     "data": {
      "image/png": "[encoded data removed]",
      "text/plain": [
       "<matplotlib.figure.Figure at 0x7c03e10>"
      ]
     },
     "metadata": {},
     "output_type": "display_data"
    }
   ],
   "source": [
    "A = np.matrix([[1, 0.3], [0.45, 1.2]])\n",
    "#matrix = np.matrix([[2, 0],[0, 3]])\n",
    "#transformed_matrix = A * matrix\n",
    "\n",
    "#plot_points(matrix)\n",
    "#plot_points(transformed_matrix.A, '-', lw=3.0)\n",
    "evals, evecs = np.linalg.eig(A)\n",
    "\n",
    "x_v1, y_v1 = evecs[:,0].getA1()\n",
    "x_v2, y_v2 = evecs[:,1].getA1()\n",
    "m1 = y_v1/x_v1  # Gradient of 1st eigenvector\n",
    "m2 = y_v2/x_v2  # Gradient of 2nd eigenvector\n",
    "\n",
    "p1 = [-10/m1, -10]  # 1st point at y = -10\n",
    "p2 = [20/m2, 20]    # 2nd point at y = -20\n",
    "trans_p1 = A*np.matrix(p1).T\n",
    "trans_p2 = A*np.matrix(p2).T\n",
    "\n",
    "# Plot eigenvectors and labels\n",
    "plt.plot([x_v1*-50, x_v1*50], [y_v1*-50, y_v1*50], color='royalblue')\n",
    "plt.plot([x_v2*-50, x_v2*50], [y_v2*-50, y_v2*50], color='crimson')\n",
    "plt.annotate('e1', xy=(-20, 14),textcoords='data', weight='semibold', color='royalblue')\n",
    "plt.annotate('e2', xy=(-11, -20),textcoords='data', weight='semibold', color='crimson')\n",
    "\n",
    "# Plot the points where the eigenvector line and original points intersect\n",
    "plt.plot(p1[0], p1[1], 'ko')\n",
    "plt.plot(p2[0], p2[1], 'ko')\n",
    "\n",
    "# Plot the transformed points that lie on the eigenvector line\n",
    "plt.plot(trans_p1[0,0], trans_p1[1,0], 'ko')\n",
    "plt.plot(trans_p2[0,0], trans_p2[1,0], 'ko')\n",
    "\n",
    "# Plot the point labels\n",
    "plot_point_label('p1', p1, (12, -19))\n",
    "plot_point_label('T(p1)', trans_p1.A1, (18, -13))\n",
    "plot_point_label('p2', p2, (-14, 26))\n",
    "plot_point_label('T(p2)', trans_p2.A1, (-6, 33))\n",
    "\n",
    "# Set the axes\n",
    "ax = plt.axes() \n",
    "ax.spines['left'].set_position('zero')\n",
    "ax.spines['right'].set_color('none')\n",
    "ax.spines['bottom'].set_position('zero')\n",
    "ax.spines['top'].set_color('none')\n",
    "ax.xaxis.set_ticks_position('bottom')\n",
    "ax.yaxis.set_ticks_position('left')\n",
    "ax.set_aspect('equal')\n",
    "\n",
    "# Limit the plot\n",
    "plt.xlim([-20, 30])\n",
    "plt.ylim([-20, 35])\n",
    "plt.show()"
   ]
  },
  {
   "cell_type": "code",
   "execution_count": 37,
   "metadata": {},
   "outputs": [
    {
     "data": {
      "image/png": "[encoded data removed]",
      "text/plain": [
       "<matplotlib.figure.Figure at 0x679a870>"
      ]
     },
     "metadata": {},
     "output_type": "display_data"
    }
   ],
   "source": [
    "#Eigen Vectors\n",
    "from scipy.linalg import eig\n",
    "\n",
    "A = ((1, 2),\n",
    "     (2, 1))\n",
    "A = np.array(A)\n",
    "evals, evecs = eig(A)\n",
    "evecs = evecs[:, 0], evecs[:, 1]\n",
    "\n",
    "fig, ax = plt.subplots(figsize=(10, 8))\n",
    "# Set the axes through the origin\n",
    "for spine in ['left', 'bottom']:\n",
    "    ax.spines[spine].set_position('zero')\n",
    "for spine in ['right', 'top']:\n",
    "    ax.spines[spine].set_color('none')\n",
    "ax.grid(alpha=0.4)\n",
    "\n",
    "xmin, xmax = -3, 3\n",
    "ymin, ymax = -3, 3\n",
    "ax.set(xlim=(xmin, xmax), ylim=(ymin, ymax))\n",
    "\n",
    "# Plot each eigenvector\n",
    "for v in evecs:\n",
    "    ax.annotate('', xy=v, xytext=(0, 0),\n",
    "                arrowprops=dict(facecolor='blue',\n",
    "                shrink=0,\n",
    "                alpha=0.6,\n",
    "                width=0.5))\n",
    "\n",
    "# Plot the image of each eigenvector\n",
    "for v in evecs:\n",
    "    v = np.dot(A , v)\n",
    "    ax.annotate('', xy=v, xytext=(0, 0),\n",
    "                arrowprops=dict(facecolor='red',\n",
    "                shrink=0,\n",
    "                alpha=0.6,\n",
    "                width=0.5))\n",
    "\n",
    "# Plot the lines they run through\n",
    "x = np.linspace(xmin, xmax, 3)\n",
    "for v in evecs:\n",
    "    a = v[1] / v[0]\n",
    "    ax.plot(x, a * x, 'b-', lw=0.4)\n",
    "\n",
    "plt.show()"
   ]
  },
  {
   "cell_type": "code",
   "execution_count": null,
   "metadata": {
    "collapsed": true
   },
   "outputs": [],
   "source": []
  }
 ],
 "metadata": {
  "kernelspec": {
   "display_name": "Python 3",
   "language": "python",
   "name": "python3"
  },
  "language_info": {
   "codemirror_mode": {
    "name": "ipython",
    "version": 3
   },
   "file_extension": ".py",
   "mimetype": "text/x-python",
   "name": "python",
   "nbconvert_exporter": "python",
   "pygments_lexer": "ipython3",
   "version": "3.6.3"
  }
 },
 "nbformat": 4,
 "nbformat_minor": 2
}
