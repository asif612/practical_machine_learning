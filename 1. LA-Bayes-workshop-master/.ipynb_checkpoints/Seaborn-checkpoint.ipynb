{
 "cells": [
  {
   "cell_type": "code",
   "execution_count": 1,
   "metadata": {
    "collapsed": true
   },
   "outputs": [],
   "source": [
    "# Pandas for managing datasets\n",
    "import pandas as pd\n",
    "# Matplotlib for additional customization\n",
    "from matplotlib import pyplot as plt\n",
    "%matplotlib inline\n",
    "# Seaborn for plotting and styling\n",
    "import seaborn as sns"
   ]
  },
  {
   "cell_type": "code",
   "execution_count": 9,
   "metadata": {},
   "outputs": [
    {
     "ename": "SyntaxError",
     "evalue": "invalid syntax (<ipython-input-9-298d2ab80d49>, line 2)",
     "output_type": "error",
     "traceback": [
      "\u001b[1;36m  File \u001b[1;32m\"<ipython-input-9-298d2ab80d49>\"\u001b[1;36m, line \u001b[1;32m2\u001b[0m\n\u001b[1;33m    gc data/Pokemon.csv-head 10\u001b[0m\n\u001b[1;37m          ^\u001b[0m\n\u001b[1;31mSyntaxError\u001b[0m\u001b[1;31m:\u001b[0m invalid syntax\n"
     ]
    }
   ],
   "source": [
    "# Read dataset\n",
    "!gc data/Pokemon.csv-head 10\n",
    "df = pd.read_csv('data/Pokemon.csv', index_col=0)\n",
    "# Display first 5 observations\n",
    "df.head()"
   ]
  },
  {
   "cell_type": "code",
   "execution_count": null,
   "metadata": {},
   "outputs": [],
   "source": [
    "# Recommended way\n",
    "sns.lmplot(x='Attack', y='Defense', data=df)\n",
    "# By the way, Seaborn doesn't have a dedicated scatter plot function, \n",
    "# which is why you see a diagonal line. We actually used Seaborn's function for fitting and \n",
    "# plotting a regression line"
   ]
  },
  {
   "cell_type": "code",
   "execution_count": null,
   "metadata": {},
   "outputs": [],
   "source": [
    "# Scatterplot arguments\n",
    "sns.lmplot(x='Attack', y='Defense', data=df,\n",
    "           fit_reg=False, # No regression line\n",
    "           hue='Stage')   # Color by evolution stage"
   ]
  },
  {
   "cell_type": "code",
   "execution_count": null,
   "metadata": {},
   "outputs": [],
   "source": [
    "sns.boxplot(data=df)"
   ]
  },
  {
   "cell_type": "code",
   "execution_count": null,
   "metadata": {},
   "outputs": [],
   "source": [
    "# Pre-format DataFrame\n",
    "stats_df = df.drop(['Total', 'Stage', 'Legendary'], axis=1)\n",
    " \n",
    "# New boxplot using stats_df\n",
    "sns.boxplot(data=stats_df)"
   ]
  },
  {
   "cell_type": "code",
   "execution_count": null,
   "metadata": {},
   "outputs": [],
   "source": [
    "# Melt DataFrame\n",
    "melted_df = pd.melt(stats_df, \n",
    "                    id_vars=[\"Name\", \"Type 1\", \"Type 2\"], # Variables to keep\n",
    "                    var_name=\"Stat\") # Name of melted variable\n",
    "melted_df.head()"
   ]
  },
  {
   "cell_type": "code",
   "execution_count": null,
   "metadata": {},
   "outputs": [],
   "source": [
    "# Swarmplot with melted_df\n",
    "sns.swarmplot(x='Stat', y='value', data=melted_df, \n",
    "              hue='Type 1')"
   ]
  },
  {
   "cell_type": "code",
   "execution_count": null,
   "metadata": {},
   "outputs": [],
   "source": [
    "pkmn_type_colors = ['#78C850',  # Grass\n",
    "                    '#F08030',  # Fire\n",
    "                    '#6890F0',  # Water\n",
    "                    '#A8B820',  # Bug\n",
    "                    '#A8A878',  # Normal\n",
    "                    '#A040A0',  # Poison\n",
    "                    '#F8D030',  # Electric\n",
    "                    '#E0C068',  # Ground\n",
    "                    '#EE99AC',  # Fairy\n",
    "                    '#C03028',  # Fighting\n",
    "                    '#F85888',  # Psychic\n",
    "                    '#B8A038',  # Rock\n",
    "                    '#705898',  # Ghost\n",
    "                    '#98D8D8',  # Ice\n",
    "                    '#7038F8',  # Dragon\n",
    "                   ]\n",
    "# 1. Enlarge the plot\n",
    "plt.figure(figsize=(10,6))\n",
    " \n",
    "sns.swarmplot(x='Stat', \n",
    "              y='value', \n",
    "              data=melted_df, \n",
    "              hue='Type 1', \n",
    "              split=True, # 2. Separate points by hue\n",
    "              palette=pkmn_type_colors) # 3. Use Pokemon palette\n",
    " \n",
    "# 4. Adjust the y-axis\n",
    "plt.ylim(0, 260)\n",
    " \n",
    "# 5. Place legend to the right\n",
    "plt.legend(bbox_to_anchor=(1, 1), loc=2)"
   ]
  },
  {
   "cell_type": "code",
   "execution_count": null,
   "metadata": {},
   "outputs": [],
   "source": [
    "# Calculate correlations\n",
    "corr = stats_df.corr()\n",
    " \n",
    "# Heatmap\n",
    "sns.heatmap(corr)"
   ]
  },
  {
   "cell_type": "code",
   "execution_count": null,
   "metadata": {},
   "outputs": [],
   "source": [
    "# Distribution Plot (a.k.a. Histogram)\n",
    "sns.distplot(df.Attack)"
   ]
  },
  {
   "cell_type": "code",
   "execution_count": null,
   "metadata": {},
   "outputs": [],
   "source": [
    "# Count Plot (a.k.a. Bar Plot)\n",
    "sns.countplot(x='Type 1', data=df, palette=pkmn_type_colors)\n",
    " \n",
    "# Rotate x-labels\n",
    "plt.xticks(rotation=-45)"
   ]
  },
  {
   "cell_type": "code",
   "execution_count": null,
   "metadata": {
    "collapsed": true
   },
   "outputs": [],
   "source": []
  }
 ],
 "metadata": {
  "kernelspec": {
   "display_name": "Python 3",
   "language": "python",
   "name": "python3"
  },
  "language_info": {
   "codemirror_mode": {
    "name": "ipython",
    "version": 3
   },
   "file_extension": ".py",
   "mimetype": "text/x-python",
   "name": "python",
   "nbconvert_exporter": "python",
   "pygments_lexer": "ipython3",
   "version": "3.6.3"
  }
 },
 "nbformat": 4,
 "nbformat_minor": 2
}
